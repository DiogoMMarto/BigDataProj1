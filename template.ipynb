{
 "cells": [
  {
   "cell_type": "markdown",
   "id": "375aacc5",
   "metadata": {},
   "source": [
    "<br>\n",
    "\n",
    "# Técnicas Matemáticas para Big Data - Project NN?\n",
    "<br><br>\n"
   ]
  },
  {
   "cell_type": "markdown",
   "id": "8b47c68c",
   "metadata": {},
   "source": [
    "GROUP NN:\n",
    "- Student 1 - Nº 105062 - ??% Work Participation\n",
    "- Student 2 - Nº xxxxx - ??% Work Participation\n",
    "- Student 3 - Nº xxxxx - ??% Work Participation"
   ]
  },
  {
   "cell_type": "markdown",
   "id": "c66fb045",
   "metadata": {},
   "source": [
    "<br><br>\n",
    "\n",
    "## 1. Introduction to the problem of study [1,0 valor]"
   ]
  },
  {
   "cell_type": "markdown",
   "id": "295bc516",
   "metadata": {},
   "source": [
    "Classificar o vinho é uma tarefa bastante complicada, uma vez que se basiea apenas no que experiencia cada provador, e as sensações provocadas pelo sabor de um vinho em cada ser humano são bastante subjetivas, variadas e difíceis de quantificar. Neste trabalho, vamos usar fuzzy logic para tentar prever, usando cinco variáveis (propriedades físicas e químicas do vinho - obtidas em análises químicas), as preferências humanas para o vinho verde português (rever esta parte - o português)."
   ]
  },
  {
   "cell_type": "markdown",
   "id": "17212bd3",
   "metadata": {},
   "source": [
    "De acordo com o estudo em que o grupo se baseou, «modelar as preferências de vinho pode ser uma tarefa bastante útil não apenas para o marketing, mas também para melhorar a produção de vinho ou suportar as avaliações feitas por enólogos nas provas de vinho. Assim, considerámos bastante interessante abordar este tema e usar este dataset para este primeiro trabalho de técnicas matemáticas para Big Data."
   ]
  },
  {
   "cell_type": "markdown",
   "id": "41af2342",
   "metadata": {},
   "source": [
    "<br><br>\n",
    "## 2. Brief and general description of the approach and methods used [1,5 valor]"
   ]
  },
  {
   "cell_type": "markdown",
   "id": "96c3ab14",
   "metadata": {},
   "source": [
    "Neste trabalho immplementamos um sistema fuzzy otimizado por um algoritmo genético (VERIFICAR SE FA É MESMO ISTO E VER SE O ARTIGO DIZ ALGO), para ajustar automaticamente as regras fuzzy que, dado o conjunto de características químicas que compões as variáveis de entrada (como os níveis de acidez, o acúcar residual, o álcool e o dióxido de enxofre), influenciam a qualidade de um vinho. O objetivo passa por minimizar também o erro de previsão da qualidade do vinho."
   ]
  },
  {
   "cell_type": "markdown",
   "id": "0e324615",
   "metadata": {},
   "source": [
    "<br><br>\n",
    "## 3. Brief History and literature review of the problem and methods/algorithms [1,5 valor]"
   ]
  },
  {
   "cell_type": "markdown",
   "id": "d34f902b",
   "metadata": {},
   "source": [
    "Vários autores estudaram, ao longo do tempo, de que forma seria possível prever ou estimar a qualidade de um determinado vinho, recorrendo às suas propriedades físicas e químicas. Já em 2008, Paulo Cortez, António Cerdeira, Fernando Almeida, Telmo Matos e José Reis tentaram, como o seu estudo intitulado «Modeling wine preferences by data mining from physicochemical properties», utilizar redes neuronais para resolver este problema"
   ]
  },
  {
   "cell_type": "markdown",
   "id": "16b093b3",
   "metadata": {},
   "source": [
    "Já em 2015, O artigo onde nos inspirámos para escolher este dataset é intitulado «Modeling Wine Preferences from Physicochemical Properties using Fuzzy Techniques» e escrito por Àngela Nebot, Francisco Mugica e Antoni Escobet. Neste artigo, são utilizadas quatro técnicas Fuzzy: três delas são Genetic Fuzzy Systems (GFS), estruturas Fuzzy que identificam a estrutura e parâmetros do problema através de médias de algoritmos genéticos (GA)  e um algoritmo Fuzzy Inductive Reasoning (FIR), que é uma «mistura» entre abordagens Fuzzy e de Machine Learning. Todos estes algoritmos são comparados entre si tendo em conta a accuracy da previsão e o esforço computacional, e são ainda comparados com outras técnicas de Data Mining aplicadas ao mesmo problema. "
   ]
  },
  {
   "cell_type": "markdown",
   "id": "fdc5cbd5",
   "metadata": {},
   "source": [
    "Para prever qual será a avaliação dada pelo modelo para a qualidade de cada vinho, são utilizadas as seguintes variáveis (indicadores e componentes físicos e químicos): Acidez fixa (FA); Acidez Variável (VA); Ácido Cítrico (CA); Açúcar Residual (RS); Cloretos (CH); Dióxido de Enxofre Livre (FSD); Dióxido de Enxofre Total (TSD); Densidade (DE); pH; Sulfatos (SU) e Alcool (AL).\n"
   ]
  },
  {
   "cell_type": "markdown",
   "id": "4889a980",
   "metadata": {},
   "source": [
    "<br><br>\n",
    "## 4. About the main method/algorithm used [1,5 valor]"
   ]
  },
  {
   "cell_type": "markdown",
   "id": "52795c65",
   "metadata": {},
   "source": [
    "<br><br>\n",
    "\n",
    "## 5. Python imports and global configurations [0,5 valor]"
   ]
  },
  {
   "cell_type": "markdown",
   "id": "6f0f3deb",
   "metadata": {},
   "source": [
    "### Install and import the necessary libraries to compute the Bayesian Network and perform other methods  "
   ]
  },
  {
   "cell_type": "code",
   "execution_count": 1,
   "id": "b5177dbe",
   "metadata": {},
   "outputs": [],
   "source": [
    "# %pip install pandas\n",
    "# %pip install seaborn\n",
    "# %pip install matplotlib\n",
    "# %pip install numpy\n",
    "# %pip install pomegranate\n",
    "# %pip install torch\n",
    "# %pip install Pillow"
   ]
  },
  {
   "cell_type": "markdown",
   "id": "bb739aae",
   "metadata": {},
   "source": [
    "<br><br>\n",
    "\n",
    "## 6. Dataset and variables explanation [1,5 valor]"
   ]
  },
  {
   "cell_type": "markdown",
   "id": "530ec8d7",
   "metadata": {},
   "source": [
    "Os dados usados neste trabalho têm origem na região do Minho e o dataset está diponível no UCI machine learning repository (UCI, 2015). Os dados foram recolhidos entre Maio de 2004 e Fevereiro de 2007, sendo um conjunto de dados bastante maior do que os outros datasets usados em benchmarks e problemas do mesmo âmbito para este tema."
   ]
  },
  {
   "cell_type": "markdown",
   "id": "760fd5f8",
   "metadata": {},
   "source": [
    "De acordo com o estudo onde nos baseámos e que criou este dataset, cada uma das 4898 amostras de vinho foi avaliada por um mínimo de três enólogos, através de provas cegas, que avaliaram o vinho numa escala de 0 a 10 (de muito mau a excelente qualidade, respetivamente). O score final é dado pela mediana dessas avaliações. Esta variável segue uma ditribuição normal «típica», com minimo e máximo de 3 e 9 para o vinho branco."
   ]
  },
  {
   "cell_type": "markdown",
   "id": "2f22429e",
   "metadata": {},
   "source": [
    "Do conjunto das 11 variáveis explicativas que já referimos anteriormente, iremos utilizar para este trabalho apenas cinco (álcool, acidez fixa, dióxido de enxofre livre, açúcar residual, acidez variável), que consideramos serem as mais relevantes. De facto, como vemos no artigo base do nosso trabalho, «o FIR descobre que as variáveis que têm uma relação causal mais forte com a qualidade do vinho são: álcool, acidez fixa, dióxido de enxofre livre, açúcar residual e a acidez variável». O ácido cítrico e os sulfatos (que não vamos usar) são também variáveis que têm relação causal com a qualidade do vinho, mas não com a mesma força que as anteriores. "
   ]
  },
  {
   "cell_type": "markdown",
   "id": "e5703771",
   "metadata": {},
   "source": [
    "<br><br>\n",
    "\n",
    "## 7. Main code as possible solution to the problem [1,5 valor] "
   ]
  },
  {
   "cell_type": "markdown",
   "id": "87a15554",
   "metadata": {},
   "source": [
    "<br><br>\n",
    "\n",
    "## 8. Analysis of Example 1 [3,0 valor]"
   ]
  },
  {
   "cell_type": "markdown",
   "id": "a0f7810c",
   "metadata": {},
   "source": [
    "<br><br>\n",
    "\n",
    "## 9. Analysis of Example 2 [3,0 valor]"
   ]
  },
  {
   "cell_type": "markdown",
   "id": "1e821172",
   "metadata": {},
   "source": [
    "<br><br>\n",
    "## 10. Pros and cons of the approach [2,0 valor]"
   ]
  },
  {
   "cell_type": "markdown",
   "id": "60974d68",
   "metadata": {},
   "source": [
    "<br><br>\n",
    "## 11. Future improvements [2,0 valor]"
   ]
  },
  {
   "cell_type": "markdown",
   "id": "04b1eb04",
   "metadata": {},
   "source": [
    "<br>\n",
    "<div style=\"text-align: center;\">\n",
    "    <br><br>\n",
    "    <p style=\"font-size: 40px;\">References [1,0 valor]</p>\n",
    "</div>\n",
    "<br>\n"
   ]
  }
 ],
 "metadata": {
  "kernelspec": {
   "display_name": "Python 3 (ipykernel)",
   "language": "python",
   "name": "python3"
  },
  "language_info": {
   "codemirror_mode": {
    "name": "ipython",
    "version": 3
   },
   "file_extension": ".py",
   "mimetype": "text/x-python",
   "name": "python",
   "nbconvert_exporter": "python",
   "pygments_lexer": "ipython3",
   "version": "3.11.4"
  }
 },
 "nbformat": 4,
 "nbformat_minor": 5
}
