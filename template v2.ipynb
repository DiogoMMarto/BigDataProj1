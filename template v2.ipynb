{
 "cells": [
  {
   "cell_type": "markdown",
   "id": "375aacc5",
   "metadata": {},
   "source": [
    "<br>\n",
    "\n",
    "# Técnicas Matemáticas para Big Data - Project 01 - Fuzzy Logic\n",
    "<br><br>\n"
   ]
  },
  {
   "cell_type": "markdown",
   "id": "8b47c68c",
   "metadata": {},
   "source": [
    "GROUP 09:\n",
    "- Student 1 - Nº 105062 - ??% Work Participation\n",
    "- João Vieitas - Nº 97632 - ??% Work Participation\n",
    "- Student 3 - Nº xxxxx - ??% Work Participation"
   ]
  },
  {
   "cell_type": "markdown",
   "id": "c66fb045",
   "metadata": {},
   "source": [
    "<br><br>\n",
    "\n",
    "## 1. Introduction to the problem of study [1,0 valor]"
   ]
  },
  {
   "cell_type": "markdown",
   "id": "295bc516",
   "metadata": {},
   "source": [
    "O Vinho é um bem cada vez mais apreciado e consumido para um esptro cada vez maior de consumidores. Portual está no top 10 de exportadores de vinho (principalmente vinho verde), com cerca de 3% de quota de mercado e um crescimento de 38% das exportações. Para suportar este crescimento, as empresas produtoras de vinho estão cada vez mais focadas trazer novas tecnologias ao processo de fabrico e venda do vinho. "
   ]
  },
  {
   "cell_type": "markdown",
   "id": "17212bd3",
   "metadata": {},
   "source": [
    "A certificação é apenas um dos passos por onde o vinho tem que passar para poder ser comercializado. A Avaliação de qualidade, essencial no processo de certiificação, pode ser usado para melhorar o fabrico do vinho (identificando os fatores mais influentes) e pode ser útil para estratificar os vários vinhos e as marcas premium (útil para definir preços). Esta avalialão é bastante complicada, uma vez que (a par de algums testes químicos) se baseia quase exclusivamente em testes sensoriais feitos por enólogos.\n"
   ]
  },
  {
   "cell_type": "markdown",
   "id": "a511a5f4",
   "metadata": {},
   "source": [
    "Assim, neste trabalho vamos usar fuzzy logic, usando cinco variáveis (propriedades físicas e químicas do vinho), as preferências humanas para o vinho verde português, de forma a tentar prever qual será a classicação que um vinho com determinadas características físicas (e tendo em conta a avaliação feita pelos enólogos) terá."
   ]
  },
  {
   "cell_type": "markdown",
   "id": "97ff2ae4",
   "metadata": {},
   "source": [
    "De acordo com o estudo em que o grupo se baseou, «modelar as preferências de vinho pode ser uma tarefa bastante útil não apenas para o marketing, mas também para melhorar a produção de vinho ou suportar as avaliações feitas por enólogos nas provas de vinho. Assim, considerámos bastante interessante abordar este tema e usar este dataset para este primeiro trabalho de técnicas matemáticas para Big Data."
   ]
  },
  {
   "cell_type": "markdown",
   "id": "41af2342",
   "metadata": {},
   "source": [
    "<br><br>\n",
    "## 2. Brief and general description of the approach and methods used [1,5 valor]"
   ]
  },
  {
   "cell_type": "markdown",
   "id": "96c3ab14",
   "metadata": {},
   "source": [
    "este trabalho immplementamos um sistema fuzzy otimizado por um algoritmo, para ajustar automaticamente as regras fuzzy que, dado o conjunto de características químicas que compões as variáveis de entrada (como os níveis de acidez, o acúcar residual, o álcool e o dióxido de enxofre), influenciam a qualidade de um vinho. O objetivo passa por minimizar também o erro de previsão da qualidade do vinho."
   ]
  },
  {
   "cell_type": "markdown",
   "id": "bea4478b",
   "metadata": {},
   "source": [
    "Para criação dos fuzzy sets foi criada uma função que através dos quantis e de constantes heurísticas gera os triângulos dos conjuntos de pertença: ol, low, normal, high, oh, MIN, MAX através dos key values (minímo, máximo, quantis) de cada variável.\n",
    "O fuzzy set do output (quality) foi definido com apenas 3 conjuntos de pertença (low, normal, high) de forma a diminuir o número de regras necessário para computar o problema sem correr o risco de obter área 0 para alguns conjuntos de entrada. Utilizaram-se trapézios e um triângulo de forma a tentar diminuir a previsão mais comum quality=6."
   ]
  },
  {
   "cell_type": "markdown",
   "id": "0e324615",
   "metadata": {},
   "source": [
    "<br><br>\n",
    "## 3. Brief History and literature review of the problem and methods/algorithms [1,5 valor]"
   ]
  },
  {
   "cell_type": "markdown",
   "id": "d34f902b",
   "metadata": {},
   "source": [
    "Vários autores estudaram, ao longo do tempo, de que forma seria possível prever ou estimar a qualidade de um determinado vinho, recorrendo às suas propriedades físicas e químicas. Em 2008, Paulo Cortez, António Cerdeira, Fernando Almeida, Telmo Matos e José Reis tentaram, como o seu estudo intitulado «Modeling wine preferences by data mining from physicochemical properties», utilizar redes neuronais para resolver este problema. Este estudo obteve resultados e conclusões interessantes, descritos pelos autores como «encoragadores», com o modelo SVM (Support vector machine) a exceder a performance de outras técnicas como as Redes Neuronais e as Regressões Múltiplas."
   ]
  },
  {
   "cell_type": "markdown",
   "id": "08c42815",
   "metadata": {},
   "source": [
    "Já em 2015, O artigo onde nos inspirámos para escolher este dataset é intitulado «Modeling Wine Preferences from Physicochemical Properties using Fuzzy Techniques» e escrito por Àngela Nebot, Francisco Mugica e Antoni Escobet. Neste artigo, são utilizadas quatro técnicas Fuzzy: três delas são Genetic Fuzzy Systems (GFS), estruturas Fuzzy que identificam a estrutura e parâmetros do problema através de médias de algoritmos genéticos (GA)  e um algoritmo Fuzzy Inductive Reasoning (FIR), que é uma «mistura» entre abordagens Fuzzy e de Machine Learning. Todos estes algoritmos são comparados entre si tendo em conta a accuracy da previsão e o esforço computacional, e são ainda comparados com outras técnicas de Data Mining aplicadas ao mesmo problema. "
   ]
  },
  {
   "cell_type": "markdown",
   "id": "b156de44",
   "metadata": {},
   "source": [
    "Para prever qual será a avaliação dada pelo modelo para a qualidade de cada vinho, são utilizadas as seguintes variáveis (indicadores e componentes físicos e químicos): Acidez fixa (FA); Acidez Variável (VA); Ácido Cítrico (CA); Açúcar Residual (RS); Cloretos (CH); Dióxido de Enxofre Livre (FSD); Dióxido de Enxofre Total (TSD); Densidade (DE); pH; Sulfatos (SU) e Alcool (AL). O artigo conclui que as variáveis mais inflluentes são álcool, acidez fixa, dióxido de enxofre livre, açúcar residual e a acidez variável». O FIR (uma das quatro técnicas usadas), aplicada com as cinco variáveis anteriores, é o modelo que atinge a melhor performance, ultrapassando em larga escala o desempenho das outras técnicas fuzzy híbridas estudadas no artigo e tamém de outras metodologias de data mining, assim como o desempenho das redes neuronais e do SVM."
   ]
  },
  {
   "cell_type": "markdown",
   "id": "8cdc8ced",
   "metadata": {},
   "source": [
    "Os resultados destes trabalhos são muito importantes para a indústria do vinho, ao integrar testes objetivos da qualidade do vinho no sistema de decisão dos enólogos, de forma a complementar a análise feita pelos enólogos através das provas (esta prova feita pelo ser humano, apesar de subjetiva, é obrigatória por lei em Portugal)."
   ]
  },
  {
   "cell_type": "markdown",
   "id": "4889a980",
   "metadata": {},
   "source": [
    "<br><br>\n",
    "## 4. About the main method/algorithm used [1,5 valor]"
   ]
  },
  {
   "cell_type": "markdown",
   "id": "3d79acd1",
   "metadata": {},
   "source": [
    "Inicialmente foi importado o dataset e dividio em treino e teste. De seguida forma criados os fuzzy sets das cinco variáveis de entrada e também do output.\n",
    "\n",
    "A parte principal do código é onde é utilizado o GA para otimizar o conjunto de regras. Este foi definido com o formato IF a AND b THEN c, isto é, cada regra depende da interseção de duas variáveis de entrada para obter um output. Viu-se que regras que continham sempre todas as cinco variáveis de entrada (IF a AND b AND c AND d ADN e THEN f) trariam uma necessidade de ter um número de regras muito grande, que faria com que fosse necessário imenso tempo para obter um conjunto de regras otimizado.\n",
    "\n",
    "Para otimizar o conjunto de regras, este é avaliado por uma função que transforma as previsões no inteiro mais próximo (tornando o problema num classificador) e calcula a accuracy da mesma. Consoante a evolução da métrica escolhida é, a cada iteração, guardada a melhor população e no final obtém-se o Best Individual que corresponde ao conujunto de regras otimizado.\n",
    "\n",
    "Para análise dos resultados é criado um controlador fuzzy usando o conjunto de regras otimizado e calculadas as accuracys e a matriz de confusão de treino e teste. São também desenhados os histogramas para ambos os conjuntos de dados de forma a compreender a distribuição das previsões.\n",
    "\n",
    "No final, foi feita uma porção de código onde é possível ver o comportamento do controlador fuzzy para cada caso específico juntamente com o valor (regressão) obtido e comparar com a qualidade real."
   ]
  },
  {
   "cell_type": "markdown",
   "id": "52795c65",
   "metadata": {},
   "source": [
    "<br><br>\n",
    "\n",
    "## 5. Python imports and global configurations [0,5 valor]"
   ]
  },
  {
   "cell_type": "markdown",
   "id": "6f0f3deb",
   "metadata": {},
   "source": [
    "### Install and import the necessary libraries"
   ]
  },
  {
   "cell_type": "code",
   "execution_count": null,
   "id": "b5177dbe",
   "metadata": {},
   "outputs": [
    {
     "name": "stdout",
     "output_type": "stream",
     "text": [
      "sys.version_info(major=3, minor=9, micro=7, releaselevel='final', serial=0)\n"
     ]
    },
    {
     "name": "stderr",
     "output_type": "stream",
     "text": [
      "c:\\FIA\\anaconda3\\lib\\site-packages\\scipy\\__init__.py:146: UserWarning: A NumPy version >=1.16.5 and <1.23.0 is required for this version of SciPy (detected version 1.26.4\n",
      "  warnings.warn(f\"A NumPy version >={np_minversion} and <{np_maxversion}\"\n"
     ]
    },
    {
     "name": "stdout",
     "output_type": "stream",
     "text": [
      "Requirement already satisfied: numpy in c:\\fia\\anaconda3\\lib\\site-packages (1.26.4)\n",
      "Collecting numpy\n",
      "  Using cached numpy-2.0.2-cp39-cp39-win_amd64.whl (15.9 MB)\n",
      "Requirement already satisfied: matplotlib in c:\\fia\\anaconda3\\lib\\site-packages (3.9.2)\n",
      "Requirement already satisfied: scikit-fuzzy in c:\\fia\\anaconda3\\lib\\site-packages (0.5.0)\n",
      "Requirement already satisfied: pyparsing>=2.3.1 in c:\\fia\\anaconda3\\lib\\site-packages (from matplotlib) (3.1.4)\n",
      "Requirement already satisfied: contourpy>=1.0.1 in c:\\fia\\anaconda3\\lib\\site-packages (from matplotlib) (1.2.0)\n",
      "Requirement already satisfied: importlib-resources>=3.2.0 in c:\\fia\\anaconda3\\lib\\site-packages (from matplotlib) (6.1.1)\n",
      "Requirement already satisfied: pillow>=8 in c:\\fia\\anaconda3\\lib\\site-packages (from matplotlib) (8.4.0)\n",
      "Requirement already satisfied: cycler>=0.10 in c:\\fia\\anaconda3\\lib\\site-packages (from matplotlib) (0.10.0)\n",
      "Requirement already satisfied: fonttools>=4.22.0 in c:\\fia\\anaconda3\\lib\\site-packages (from matplotlib) (4.25.0)\n",
      "Requirement already satisfied: packaging>=20.0 in c:\\fia\\anaconda3\\lib\\site-packages (from matplotlib) (21.0)\n",
      "Requirement already satisfied: python-dateutil>=2.7 in c:\\fia\\anaconda3\\lib\\site-packages (from matplotlib) (2.8.2)\n",
      "Requirement already satisfied: kiwisolver>=1.3.1 in c:\\fia\\anaconda3\\lib\\site-packages (from matplotlib) (1.3.1)\n",
      "Requirement already satisfied: six in c:\\fia\\anaconda3\\lib\\site-packages (from cycler>=0.10->matplotlib) (1.16.0)\n",
      "Requirement already satisfied: zipp>=3.1.0 in c:\\fia\\anaconda3\\lib\\site-packages (from importlib-resources>=3.2.0->matplotlib) (3.6.0)\n",
      "Note: you may need to restart the kernel to use updated packages.\n"
     ]
    },
    {
     "name": "stderr",
     "output_type": "stream",
     "text": [
      "WARNING: Ignoring invalid distribution -atplotlib (c:\\fia\\anaconda3\\lib\\site-packages)\n",
      "WARNING: Ignoring invalid distribution -atplotlib (c:\\fia\\anaconda3\\lib\\site-packages)\n",
      "WARNING: Ignoring invalid distribution -atplotlib (c:\\fia\\anaconda3\\lib\\site-packages)\n",
      "WARNING: Ignoring invalid distribution -atplotlib (c:\\fia\\anaconda3\\lib\\site-packages)\n",
      "WARNING: Ignoring invalid distribution -atplotlib (c:\\fia\\anaconda3\\lib\\site-packages)\n",
      "WARNING: Ignoring invalid distribution -atplotlib (c:\\fia\\anaconda3\\lib\\site-packages)\n"
     ]
    },
    {
     "name": "stdout",
     "output_type": "stream",
     "text": [
      "Requirement already satisfied: deap in c:\\fia\\anaconda3\\lib\\site-packages (1.4.1)\n",
      "Requirement already satisfied: numpy in c:\\fia\\anaconda3\\lib\\site-packages (from deap) (1.26.4)\n",
      "Note: you may need to restart the kernel to use updated packages.\n"
     ]
    },
    {
     "name": "stderr",
     "output_type": "stream",
     "text": [
      "WARNING: Ignoring invalid distribution -atplotlib (c:\\fia\\anaconda3\\lib\\site-packages)\n",
      "WARNING: Ignoring invalid distribution -atplotlib (c:\\fia\\anaconda3\\lib\\site-packages)\n",
      "WARNING: Ignoring invalid distribution -atplotlib (c:\\fia\\anaconda3\\lib\\site-packages)\n",
      "WARNING: Ignoring invalid distribution -atplotlib (c:\\fia\\anaconda3\\lib\\site-packages)\n",
      "WARNING: Ignoring invalid distribution -atplotlib (c:\\fia\\anaconda3\\lib\\site-packages)\n",
      "WARNING: Ignoring invalid distribution -atplotlib (c:\\fia\\anaconda3\\lib\\site-packages)\n"
     ]
    }
   ],
   "source": [
    "import sys\n",
    "print(sys.version_info)\n",
    "\n",
    "try:\n",
    "    import numpy as np\n",
    "    import pandas as pd\n",
    "    import skfuzzy as fuzz\n",
    "    import matplotlib.pyplot as plt\n",
    "    from random import sample, choice\n",
    "    from skfuzzy import control as ctrl\n",
    "    from deap import base, creator, tools, algorithms\n",
    "    from sklearn.metrics import accuracy_score, confusion_matrix\n",
    "    from random import choice, uniform \n",
    "    from collections import Counter \n",
    "    from sklearn.model_selection import train_test_split\n",
    "except:\n",
    "    %pip install -U numpy matplotlib scikit-fuzzy\n",
    "    %pip install deap"
   ]
  },
  {
   "cell_type": "markdown",
   "id": "bb739aae",
   "metadata": {},
   "source": [
    "<br><br>\n",
    "\n",
    "## 6. Dataset and variables explanation [1,5 valor]"
   ]
  },
  {
   "cell_type": "markdown",
   "id": "530ec8d7",
   "metadata": {},
   "source": [
    "Os dados usados neste trabalho têm origem na região do Minho e o dataset está diponível no UCI machine learning repository (UCI, 2015). Os dados foram recolhidos entre Maio de 2004 e Fevereiro de 2007, sendo um conjunto de dados bastante maior do que os outros datasets usados em benchmarks e problemas do mesmo âmbito para este tema."
   ]
  },
  {
   "cell_type": "markdown",
   "id": "760fd5f8",
   "metadata": {},
   "source": [
    "De acordo com o estudo onde nos baseámos e que criou este dataset, cada uma das 4898 amostras de vinho foi avaliada por um mínimo de três enólogos, através de provas cegas, que avaliaram o vinho numa escala de 0 a 10 (de muito mau a excelente qualidade, respetivamente). O score final é dado pela mediana dessas avaliações. Esta variável segue uma ditribuição normal «típica», com minimo e máximo de 3 e 9 para o vinho branco."
   ]
  },
  {
   "cell_type": "markdown",
   "id": "2f22429e",
   "metadata": {},
   "source": [
    "Do conjunto das 11 variáveis explicativas que já referimos anteriormente, iremos utilizar para este trabalho apenas cinco (álcool, acidez fixa, dióxido de enxofre livre, açúcar residual, acidez variável), que consideramos serem as mais relevantes. De facto, como vemos no artigo base do nosso trabalho, «o FIR descobre que as variáveis que têm uma relação causal mais forte com a qualidade do vinho são: álcool, acidez fixa, dióxido de enxofre livre, açúcar residual e a acidez variável». O ácido cítrico e os sulfatos (que não vamos usar) são também variáveis que têm relação causal com a qualidade do vinho, mas não com a mesma força que as anteriores. "
   ]
  },
  {
   "cell_type": "markdown",
   "id": "e5703771",
   "metadata": {},
   "source": [
    "<br><br>\n",
    "\n",
    "## 7. Main code as possible solution to the problem [1,5 valor] "
   ]
  },
  {
   "cell_type": "code",
   "execution_count": null,
   "id": "acaad1f6",
   "metadata": {},
   "outputs": [],
   "source": [
    "data = pd.read_csv('winequality-white.csv', sep=';')\n",
    "\n",
    "# Split the data into features (X) and target (Y)\n",
    "X = data[['alcohol', 'fixed acidity', 'free sulfur dioxide', 'residual sugar', 'volatile acidity']]\n",
    "Y = data['quality']\n",
    "\n",
    "# Split into training (80%) and test (20%) sets\n",
    "X_train, X_test, Y_train, Y_test = train_test_split(X, Y, test_size=0.2, random_state=42)\n",
    "\n",
    "print(\"Training set size:\", X_train.shape[0])\n",
    "print(\"Test set size:\", X_test.shape[0])\n",
    "\n",
    "# Check original class distribution\n",
    "print(\"Original class distribution:\", Counter(Y_train), \"\\n\")\n"
   ]
  },
  {
   "cell_type": "code",
   "execution_count": null,
   "id": "d0dc9559",
   "metadata": {},
   "outputs": [],
   "source": [
    "# Function to generate triangular membership sets\n",
    "\n",
    "def extract_key_values(x):\n",
    "    MIN = min(x)\n",
    "    MAX = max(x)\n",
    "    \n",
    "    a = 1.5  \n",
    "    b = 0.5\n",
    "    c = 0.5\n",
    "    \n",
    "    q1 = np.quantile(x, 0.25)\n",
    "    q2 = np.quantile(x, 0.50)  \n",
    "    q3 = np.quantile(x, 0.75)\n",
    "    \n",
    "    LL = max(MIN, q1 - a * (q3 - q1))\n",
    "    HL = min(MAX, q3 + a * (q3 - q1))\n",
    "    \n",
    "    v1 = c * (LL - MIN)\n",
    "    v2 = c * (MAX - HL)\n",
    "    \n",
    "    # Define triangular membership functions (three points each)\n",
    "    ol = [MIN, MIN, LL]         \n",
    "    low = [MIN, q1, q2]         \n",
    "    normal = [q1, q2, q3]       \n",
    "    high = [q2, q3, HL]         \n",
    "    oh = [HL, MAX, MAX]         \n",
    "    \n",
    "    return ol, low, normal, high, oh, MIN, MAX"
   ]
  },
  {
   "cell_type": "code",
   "execution_count": null,
   "id": "66e843f6",
   "metadata": {},
   "outputs": [],
   "source": [
    "# Define fuzzy sets for alcohol\n",
    "ol_alcohol, low_alcohol, normal_alcohol, high_alcohol, oh_alcohol, alcohol_min, alcohol_max = extract_key_values(X_train.iloc[:, 0])\n",
    "alcohol = ctrl.Antecedent(np.arange(alcohol_min, alcohol_max, 0.01), 'alcohol')\n",
    "\n",
    "alcohol['ol'] = fuzz.trimf(np.arange(alcohol_min, alcohol_max, 0.01), ol_alcohol)\n",
    "alcohol['low'] = fuzz.trimf(np.arange(alcohol_min, alcohol_max, 0.01), low_alcohol)\n",
    "alcohol['normal'] = fuzz.trimf(np.arange(alcohol_min, alcohol_max, 0.01), normal_alcohol)\n",
    "alcohol['high'] = fuzz.trimf(np.arange(alcohol_min, alcohol_max, 0.01), high_alcohol)\n",
    "alcohol['oh'] = fuzz.trimf(np.arange(alcohol_min, alcohol_max, 0.01), oh_alcohol)\n",
    "\n",
    "alcohol.view()  "
   ]
  },
  {
   "cell_type": "code",
   "execution_count": null,
   "id": "9df6bbe2",
   "metadata": {},
   "outputs": [],
   "source": [
    "# Define fuzzy sets for fixed acidity\n",
    "ol_fixed_acidity, low_fixed_acidity, normal_fixed_acidity, high_fixed_acidity, oh_fixed_acidity, fixed_acidity_min, fixed_acidity_max = extract_key_values(X_train.iloc[:, 1])\n",
    "fixed_acidity = ctrl.Antecedent(np.arange(fixed_acidity_min, fixed_acidity_max, 0.01), 'fixed_acidity')\n",
    "\n",
    "fixed_acidity['ol'] = fuzz.trimf(np.arange(fixed_acidity_min, fixed_acidity_max, 0.01), ol_fixed_acidity)\n",
    "fixed_acidity['low'] = fuzz.trimf(np.arange(fixed_acidity_min, fixed_acidity_max, 0.01), low_fixed_acidity)\n",
    "fixed_acidity['normal'] = fuzz.trimf(np.arange(fixed_acidity_min, fixed_acidity_max, 0.01), normal_fixed_acidity)\n",
    "fixed_acidity['high'] = fuzz.trimf(np.arange(fixed_acidity_min, fixed_acidity_max, 0.01), high_fixed_acidity)\n",
    "fixed_acidity['oh'] = fuzz.trimf(np.arange(fixed_acidity_min, fixed_acidity_max, 0.01), oh_fixed_acidity)\n",
    "\n",
    "fixed_acidity.view()\n"
   ]
  },
  {
   "cell_type": "code",
   "execution_count": null,
   "id": "421704dc",
   "metadata": {},
   "outputs": [],
   "source": [
    "# Define fuzzy sets for free sulfur dioxide\n",
    "ol_free_sulfur_dioxide, low_free_sulfur_dioxide, normal_free_sulfur_dioxide, high_free_sulfur_dioxide, oh_free_sulfur_dioxide, free_sulfur_dioxide_min, free_sulfur_dioxide_max = extract_key_values(X_train.iloc[:, 2])\n",
    "free_sulfur_dioxide = ctrl.Antecedent(np.arange(free_sulfur_dioxide_min, free_sulfur_dioxide_max, 0.01), 'free_sulfur_dioxide')\n",
    "\n",
    "free_sulfur_dioxide['ol'] = fuzz.trimf(np.arange(free_sulfur_dioxide_min, free_sulfur_dioxide_max, 0.01), ol_free_sulfur_dioxide)\n",
    "free_sulfur_dioxide['low'] = fuzz.trimf(np.arange(free_sulfur_dioxide_min, free_sulfur_dioxide_max, 0.01), low_free_sulfur_dioxide)\n",
    "free_sulfur_dioxide['normal'] = fuzz.trimf(np.arange(free_sulfur_dioxide_min, free_sulfur_dioxide_max, 0.01), normal_free_sulfur_dioxide)\n",
    "free_sulfur_dioxide['high'] = fuzz.trimf(np.arange(free_sulfur_dioxide_min, free_sulfur_dioxide_max, 0.01), high_free_sulfur_dioxide)\n",
    "free_sulfur_dioxide['oh'] = fuzz.trimf(np.arange(free_sulfur_dioxide_min, free_sulfur_dioxide_max, 0.01), oh_free_sulfur_dioxide)\n",
    "\n",
    "free_sulfur_dioxide.view()"
   ]
  },
  {
   "cell_type": "code",
   "execution_count": null,
   "id": "554d62f4",
   "metadata": {},
   "outputs": [],
   "source": [
    "# Define fuzzy sets for Residual Sugar\n",
    "ol_sugar, low_sugar, normal_sugar, high_sugar, oh_sugar, sugar_min, sugar_max = extract_key_values(X_train.iloc[:, 3])\n",
    "sugar = ctrl.Antecedent(np.arange(sugar_min, sugar_max, 0.1), 'residual_sugar')\n",
    "\n",
    "sugar['ol'] = fuzz.trimf(np.arange(sugar_min, sugar_max, 0.1), ol_sugar)\n",
    "sugar['low'] = fuzz.trimf(np.arange(sugar_min, sugar_max, 0.1), low_sugar)\n",
    "sugar['normal'] = fuzz.trimf(np.arange(sugar_min, sugar_max, 0.1), normal_sugar)\n",
    "sugar['high'] = fuzz.trimf(np.arange(sugar_min, sugar_max, 0.1), high_sugar)\n",
    "sugar['oh'] = fuzz.trimf(np.arange(sugar_min, sugar_max, 0.1), oh_sugar)\n",
    "\n",
    "sugar.view()  "
   ]
  },
  {
   "cell_type": "code",
   "execution_count": null,
   "id": "90d7a07d",
   "metadata": {},
   "outputs": [],
   "source": [
    "# Define fuzzy sets for volatile acidity\n",
    "ol_volatile_acidity, low_volatile_acidity, normal_volatile_acidity, high_volatile_acidity, oh_volatile_acidity, volatile_acidity_min, volatile_acidity_max = extract_key_values(X_train.iloc[:, 4])\n",
    "volatile_acidity = ctrl.Antecedent(np.arange(volatile_acidity_min, volatile_acidity_max, 0.01), 'volatile_acidity')\n",
    "\n",
    "volatile_acidity['ol'] = fuzz.trimf(np.arange(volatile_acidity_min, volatile_acidity_max, 0.01), ol_volatile_acidity)\n",
    "volatile_acidity['low'] = fuzz.trimf(np.arange(volatile_acidity_min, volatile_acidity_max, 0.01), low_volatile_acidity)\n",
    "volatile_acidity['normal'] = fuzz.trimf(np.arange(volatile_acidity_min, volatile_acidity_max, 0.01), normal_volatile_acidity)\n",
    "volatile_acidity['high'] = fuzz.trimf(np.arange(volatile_acidity_min, volatile_acidity_max, 0.01), high_volatile_acidity)\n",
    "volatile_acidity['oh'] = fuzz.trimf(np.arange(volatile_acidity_min, volatile_acidity_max, 0.01), oh_volatile_acidity)\n",
    "\n",
    "volatile_acidity.view()"
   ]
  },
  {
   "cell_type": "code",
   "execution_count": null,
   "id": "1fef2e14",
   "metadata": {},
   "outputs": [],
   "source": [
    "# Define the output variable: wine quality\n",
    "quality = ctrl.Consequent(np.arange(0, 10.1, 0.1), 'quality')  \n",
    "\n",
    "min_quality = min(Y)\n",
    "max_quality = max(Y)\n",
    "\n",
    "# Adjusted membership functions to reduce predictions around 6\n",
    "quality['low'] = fuzz.trapmf(quality.universe, [min_quality, min_quality, 5, 6])\n",
    "quality['normal'] = fuzz.trimf(quality.universe, [5, 6, 7]) \n",
    "quality['high'] = fuzz.trapmf(quality.universe, [6, 7, max_quality, max_quality])\n",
    "\n",
    "quality.view()\n"
   ]
  },
  {
   "cell_type": "code",
   "execution_count": null,
   "id": "b0566e5c",
   "metadata": {},
   "outputs": [],
   "source": [
    "# List of all antecedent variables\n",
    "antecedents = ['sugar', 'volatile_acidity', 'alcohol', 'fixed_acidity', 'free_sulfur_dioxide']\n",
    "\n",
    "# Genetic Algorithm Setup\n",
    "creator.create(\"FitnessMin\", base.Fitness, weights=(-1.0,))\n",
    "creator.create(\"Individual\", list, fitness=creator.FitnessMin)\n",
    "n_rules = 100\n",
    "\n",
    "toolbox = base.Toolbox()\n",
    "\n",
    "# Define random rule generation for each pair of antecedents\n",
    "def generate_rule():\n",
    "    antecedent_pair = sample(antecedents, 2)  # Select two random antecedents\n",
    "    return [\n",
    "        (antecedent_pair[0], choice(['ol', 'low', 'normal', 'high', 'oh'])),\n",
    "        (antecedent_pair[1], choice(['ol', 'low', 'normal', 'high', 'oh'])),\n",
    "        choice(['low', 'normal', 'high'])  # Consequent for quality\n",
    "    ]\n",
    "\n",
    "toolbox.register(\"attr_rule\", generate_rule)\n",
    "toolbox.register(\"individual\", tools.initRepeat, creator.Individual, toolbox.attr_rule, n=n_rules)\n",
    "toolbox.register(\"population\", tools.initRepeat, list, toolbox.individual)\n",
    "\n",
    "# Evaluation Function\n",
    "def evaluate(individual):\n",
    "    rule_list = []\n",
    "    for antecedent1, antecedent2, consequent in individual:\n",
    "        # Get the fuzzy variables and membership functions\n",
    "        antecedent_var1 = eval(antecedent1[0])\n",
    "        antecedent_level1 = antecedent1[1]\n",
    "        antecedent_var2 = eval(antecedent2[0])\n",
    "        antecedent_level2 = antecedent2[1]\n",
    "        \n",
    "        consequent_level = consequent\n",
    "        \n",
    "        # Define fuzzy rule based on the individual\n",
    "        rule = ctrl.Rule(\n",
    "            antecedent_var1[antecedent_level1] & antecedent_var2[antecedent_level2],\n",
    "            quality[consequent_level]\n",
    "        )\n",
    "        rule_list.append(rule)\n",
    "    \n",
    "    # Create control system and simulation\n",
    "    system = ctrl.ControlSystem(rule_list)\n",
    "    simulator = ctrl.ControlSystemSimulation(system)\n",
    "    \n",
    "    # Evaluate using mean absolute error or other metric\n",
    "    predictions = np.zeros(len(X))\n",
    "    for i, row in X.iterrows():\n",
    "        try:\n",
    "            simulator.input['sugar'] = row['sugar']\n",
    "            simulator.input['volatile_acidity'] = row['volatile acidity']\n",
    "            simulator.input['alcohol'] = row['alcohol']\n",
    "            simulator.input['fixed_acidity'] = row['fixed_acidity']\n",
    "            simulator.input['free_sulfur_dioxide'] = row['free sulfur dioxide']\n",
    "            simulator.compute()\n",
    "            predictions[i] = simulator.output['quality']\n",
    "        except:\n",
    "            predictions[i] = 0  # Handle errors in computation\n",
    "\n",
    "    # Round predictions to the nearest integer\n",
    "    predictions = np.round(predictions).astype(int)\n",
    "    \n",
    "    acc = accuracy_score(Y, predictions)\n",
    "\n",
    "    return (acc,)\n",
    "\n",
    "\n",
    "# Register the evaluate function\n",
    "toolbox.register(\"evaluate\", evaluate)\n",
    "toolbox.register(\"mate\", tools.cxTwoPoint)\n",
    "toolbox.register(\"mutate\", tools.mutShuffleIndexes, indpb=0.05)\n",
    "toolbox.register(\"select\", tools.selTournament, tournsize=3)\n",
    "\n",
    "# Execute Genetic Algorithm\n",
    "population = toolbox.population(n=30)\n",
    "NGEN = 10\n",
    "CXPB = 0.7\n",
    "MUTPB = 0.1\n",
    "\n",
    "for gen in range(NGEN):\n",
    "    offspring = algorithms.varAnd(population, toolbox, cxpb=CXPB, mutpb=MUTPB)\n",
    "    fits = toolbox.map(toolbox.evaluate, offspring)\n",
    "    for fit, ind in zip(fits, offspring):\n",
    "        ind.fitness.values = fit\n",
    "    population = toolbox.select(offspring, k=len(population))\n",
    "\n",
    "# Output the best individual\n",
    "best_individual = tools.selBest(population, k=1)[0]\n",
    "print(\"Best individual:\", best_individual)"
   ]
  },
  {
   "cell_type": "code",
   "execution_count": null,
   "id": "693eb59e",
   "metadata": {},
   "outputs": [],
   "source": [
    "rule_list=[]\n",
    "\n",
    "# Recreate rules from the optimized best individual\n",
    "for antecedent1, antecedent2, consequent in best_individual:\n",
    "    # Extract variable names and membership levels\n",
    "    antecedent_var1 = eval(antecedent1[0])\n",
    "    antecedent_level1 = antecedent1[1]\n",
    "    antecedent_var2 = eval(antecedent2[0])\n",
    "    antecedent_level2 = antecedent2[1]\n",
    "    consequent_level = consequent\n",
    "\n",
    "    # Define the rule for each gene in the optimized individual\n",
    "    rule = ctrl.Rule(\n",
    "        antecedent_var1[antecedent_level1] & antecedent_var2[antecedent_level2],\n",
    "        quality[consequent_level]\n",
    "    )\n",
    "    rule_list.append(rule)\n",
    "\n",
    "#print(rule_list)      \n",
    "\n",
    "# Update control system with optimized rules\n",
    "system = ctrl.ControlSystem(rule_list)\n",
    "optimized_simulator = ctrl.ControlSystemSimulation(system)"
   ]
  },
  {
   "cell_type": "code",
   "execution_count": null,
   "id": "6e90946a",
   "metadata": {},
   "outputs": [],
   "source": [
    "# Evaluate ACC on the training set using the optimized rules\n",
    "\n",
    "train_predictions = np.zeros(len(X_train))  # Preallocate with zeros\n",
    "\n",
    "# Predictions for training set\n",
    "for i, (_, row) in enumerate(X_train.iterrows()):\n",
    "    # Set inputs for each variable\n",
    "    optimized_simulator.input['residual_sugar'] = row['residual sugar']\n",
    "    optimized_simulator.input['volatile_acidity'] = row['volatile acidity']\n",
    "    optimized_simulator.input['alcohol'] = row['alcohol']\n",
    "    optimized_simulator.input['fixed_acidity'] = row['fixed acidity']\n",
    "    optimized_simulator.input['free_sulfur_dioxide'] = row['free sulfur dioxide']\n",
    "\n",
    "    # Compute the output quality\n",
    "    try:\n",
    "        optimized_simulator.compute()\n",
    "        predicted_quality = optimized_simulator.output['quality']\n",
    "        \n",
    "        # Round prediction to nearest integer\n",
    "        train_predictions[i] = round(predicted_quality)\n",
    "        print(i, end='\\r')\n",
    "    except Exception as e:\n",
    "        print(\"ERROR: Error getting prediction!\")\n",
    "        train_predictions[i] = 0\n",
    "\n",
    "# Calculate the accuracy for the training set\n",
    "train_acc = accuracy_score(Y_train, train_predictions)\n",
    "print(\"Training Accuracy: {:.2f}\".format(train_acc))\n",
    "\n",
    "# Calculate the confusion matrix\n",
    "conf_matrix_train = confusion_matrix(Y_test, train_predictions)\n",
    "print(conf_matrix_train)"
   ]
  },
  {
   "cell_type": "code",
   "execution_count": null,
   "id": "a168b7bd",
   "metadata": {},
   "outputs": [],
   "source": [
    "# Histograms for TRAIN\n",
    "\n",
    "# Round predicted values to the closest integer\n",
    "rounded_train_predictions = np.round(train_predictions)\n",
    "\n",
    "# Calculate accuracy by comparing rounded predictions with actual values\n",
    "train_accuracy = accuracy_score(Y_train, rounded_train_predictions)\n",
    "\n",
    "print(\"Train Accuracy: {:.2f}%\".format(train_accuracy * 100))\n",
    "\n",
    "# Define common axis limits for consistency in both plots\n",
    "x_min = min(Y_test.min(), rounded_train_predictions.min())\n",
    "x_max = max(Y_test.max(), rounded_train_predictions.max())\n",
    "y_max = max(\n",
    "    np.histogram(Y_test, bins=range(int(x_min), int(x_max) + 2))[0].max(),\n",
    "    np.histogram(rounded_train_predictions, bins=range(int(x_min), int(x_max) + 2))[0].max()\n",
    ")\n",
    "\n",
    "# Plotting histograms\n",
    "plt.figure(figsize=(12, 6))\n",
    "\n",
    "# Histogram for actual quality values\n",
    "plt.subplot(1, 2, 1)\n",
    "plt.hist(Y_train, bins=range(int(x_min), int(x_max) + 2), alpha=0.7, color='blue', edgecolor='black')\n",
    "plt.title('Actual Quality')\n",
    "plt.xlabel('Quality')\n",
    "plt.ylabel('Frequency')\n",
    "plt.xlim(x_min, x_max)\n",
    "plt.ylim(0, y_max)\n",
    "\n",
    "# Histogram for predicted quality values\n",
    "plt.subplot(1, 2, 2)\n",
    "plt.hist(rounded_train_predictions, bins=range(int(x_min), int(x_max) + 2), alpha=0.7, color='orange', edgecolor='black')\n",
    "plt.title('Predicted Quality (Rounded)')\n",
    "plt.xlabel('Quality')\n",
    "plt.ylabel('Frequency')\n",
    "plt.xlim(x_min, x_max)\n",
    "plt.ylim(0, y_max)\n",
    "\n",
    "# Show plots\n",
    "plt.tight_layout()\n",
    "plt.show()"
   ]
  },
  {
   "cell_type": "code",
   "execution_count": null,
   "id": "6476f2b2",
   "metadata": {},
   "outputs": [],
   "source": [
    "# Evaluate ACC on the test set using the optimized rules\n",
    "\n",
    "test_predictions = np.zeros(len(X_test))  # Preallocate with zeros\n",
    "\n",
    "# Predictions for test set\n",
    "for i, (_, row) in enumerate(X_test.iterrows()):\n",
    "    # Set inputs for each variable\n",
    "    optimized_simulator.input['residual_sugar'] = row['residual sugar']\n",
    "    optimized_simulator.input['volatile_acidity'] = row['volatile acidity']\n",
    "    optimized_simulator.input['alcohol'] = row['alcohol']\n",
    "    optimized_simulator.input['fixed_acidity'] = row['fixed acidity']\n",
    "    optimized_simulator.input['free_sulfur_dioxide'] = row['free sulfur dioxide']\n",
    "\n",
    "    # Compute the output quality\n",
    "    try:\n",
    "        optimized_simulator.compute()\n",
    "        predicted_quality = optimized_simulator.output['quality']\n",
    "        \n",
    "        # Round prediction to nearest integer\n",
    "        test_predictions[i] = round(predicted_quality)\n",
    "        print(i, end='\\r')\n",
    "    except Exception as e:\n",
    "        print(\"ERROR: Error getting prediction!\")\n",
    "        test_predictions[i] = 0\n",
    "\n",
    "# Calculate the accuracy for the test set\n",
    "test_acc = accuracy_score(Y_test, test_predictions)\n",
    "print(\"Test Accuracy: {:.2f}\".format(test_acc))\n",
    "\n",
    "# Calculate the confusion matrix\n",
    "conf_matrix_test = confusion_matrix(Y_test, test_predictions)\n",
    "print(conf_matrix_test)"
   ]
  },
  {
   "cell_type": "code",
   "execution_count": null,
   "id": "df2ebd1d",
   "metadata": {},
   "outputs": [],
   "source": [
    "# Histograms for TEST\n",
    "\n",
    "# Round predicted values to the closest integer\n",
    "rounded_test_predictions = np.round(test_predictions)\n",
    "\n",
    "# Calculate accuracy by comparing rounded predictions with actual values\n",
    "test_accuracy = accuracy_score(Y_test, rounded_test_predictions)\n",
    "\n",
    "print(\"Test Accuracy: {:.2f}%\".format(test_accuracy * 100))\n",
    "\n",
    "# Define common axis limits for consistency in both plots\n",
    "x_min = min(Y_test.min(), rounded_test_predictions.min())\n",
    "x_max = max(Y_test.max(), rounded_test_predictions.max())\n",
    "y_max = max(\n",
    "    np.histogram(Y_test, bins=range(int(x_min), int(x_max) + 2))[0].max(),\n",
    "    np.histogram(rounded_test_predictions, bins=range(int(x_min), int(x_max) + 2))[0].max()\n",
    ")\n",
    "\n",
    "# Plotting histograms\n",
    "plt.figure(figsize=(12, 6))\n",
    "\n",
    "# Histogram for actual quality values\n",
    "plt.subplot(1, 2, 1)\n",
    "plt.hist(Y_test, bins=range(int(x_min), int(x_max) + 2), alpha=0.7, color='blue', edgecolor='black')\n",
    "plt.title('Actual Quality')\n",
    "plt.xlabel('Quality')\n",
    "plt.ylabel('Frequency')\n",
    "plt.xlim(x_min, x_max)\n",
    "plt.ylim(0, y_max)\n",
    "\n",
    "# Histogram for predicted quality values\n",
    "plt.subplot(1, 2, 2)\n",
    "plt.hist(rounded_test_predictions, bins=range(int(x_min), int(x_max) + 2), alpha=0.7, color='orange', edgecolor='black')\n",
    "plt.title('Predicted Quality (Rounded)')\n",
    "plt.xlabel('Quality')\n",
    "plt.ylabel('Frequency')\n",
    "plt.xlim(x_min, x_max)\n",
    "plt.ylim(0, y_max)\n",
    "\n",
    "# Show plots\n",
    "plt.tight_layout()\n",
    "plt.show()"
   ]
  },
  {
   "cell_type": "markdown",
   "id": "87a15554",
   "metadata": {},
   "source": [
    "<br><br>\n",
    "\n",
    "## 8. Analysis of Example 1 [3,0 valor] "
   ]
  },
  {
   "cell_type": "markdown",
   "id": "765d59f8",
   "metadata": {},
   "source": [
    "O exemplo 1 utiliza o conjunto de regras utilizado pelo GA para fazer uma previsão da qualidade do vinho.\n",
    "\n",
    "Os valores das variáveis são avaliados pelas 100 regras otimizadas e no final é calculado o centroide da área calculada; é através desse valor que se obtém a previsão da qualidade do vinho.\n",
    "\n",
    "Analisando o examplo e o conjunto de variáveis de entrada, conclui-se que as variáveis têm um maior grau de pertença às seguintes classes:\n",
    "\n",
    "alcohol - high\n",
    "fixed acidity - low\n",
    "residual sugar - high\n",
    "free sulfur dioxide - high\n",
    "volatile acidity - normal\n",
    "\n",
    "Após estes inputs serem avaliados pelas regras obtém-se um centróide que corresponde a Predicted Quality: 6.39.\n",
    "Comparando com a Actual Quality: 7.00 obtém-se um desvio de 0.61; este valor permite ter a noção do quão afastada foi a previsão, oq eu não é possível no problema de classificação."
   ]
  },
  {
   "cell_type": "code",
   "execution_count": null,
   "id": "52ad37ed",
   "metadata": {},
   "outputs": [],
   "source": [
    "sample_index = 0\n",
    "sample = X_test.iloc[sample_index]\n",
    "print(sample, \"\\n\")\n",
    "\n",
    "# Set the inputs for the optimized simulator\n",
    "optimized_simulator.input['alcohol'] = sample['alcohol']\n",
    "optimized_simulator.input['fixed_acidity'] = sample['fixed acidity']\n",
    "optimized_simulator.input['free_sulfur_dioxide'] = sample['free sulfur dioxide']\n",
    "optimized_simulator.input['residual_sugar'] = sample['residual sugar']\n",
    "optimized_simulator.input['volatile_acidity'] = sample['volatile acidity']\n",
    "\n",
    "# Run the simulation\n",
    "optimized_simulator.compute()\n",
    "\n",
    "# Print the predicted quality\n",
    "try:\n",
    "    predicted_quality = optimized_simulator.output['quality']\n",
    "    print(\"Predicted Quality: {:.2f}\".format(predicted_quality))\n",
    "except KeyError:\n",
    "    print(\"ERROR: Quality output not available for the provided input!\")\n",
    "\n",
    "# Print the actual quality using the correct index from Y_test\n",
    "actual_quality = Y_test.iloc[sample_index]\n",
    "print(\"Actual Quality: {:.2f}\".format(actual_quality))\n",
    "\n",
    "quality.view(sim=optimized_simulator)"
   ]
  },
  {
   "cell_type": "markdown",
   "id": "a0f7810c",
   "metadata": {},
   "source": [
    "<br><br>\n",
    "\n",
    "## 9. Analysis of Example 2 [3,0 valor]"
   ]
  },
  {
   "cell_type": "markdown",
   "id": "3fe5a3ac",
   "metadata": {},
   "source": []
  },
  {
   "cell_type": "markdown",
   "id": "1e821172",
   "metadata": {},
   "source": [
    "<br><br>\n",
    "## 10. Pros and cons of the approach [2,0 valor]"
   ]
  },
  {
   "cell_type": "markdown",
   "id": "7bfb1083",
   "metadata": {},
   "source": [
    "Pros:\n",
    "\n",
    "Este sistema fuzzy apenas escala com o número de regras. Para este sistema o nº de linhas do dataset não tem influência no tempo de execução do algoritmo de otimização o que é uma grande vantagem quando se aplica a datasets com uma grande quantidade de linhas.\n",
    "\n",
    "Sistemas fuzzy são mais interpretáveis do que outros modelos de machine learning como redes neuronais ou métodos ensemble complexos. \n",
    "\n",
    "\n",
    "Cons:\n",
    "\n",
    "É necessário elevado poder computacional para executar o programa;\n",
    "\n",
    "É difícil usar o programa sem ser especializado em vinho (enólogo). Exemplificando, se fosse um especialista a definir as regras seria provavelmente mais fácil ter boas previsões.\n",
    "\n",
    "Sistemas fuzzy dependem de regras pré-definidas e não aprendem diretamente com os dados. Isto faz com que sejam menos ajustáveis para tarefas onde aprender padrões complexos ou relações dos dados seja essencial. \n",
    "\n",
    "Sistemas fuzzy não lidam bem com o aumento do número de variáveis ou regras. O aumento da complexidade da base de regras leva a tempos de inferência mais lenots e processo de ajuste mais difíceis.\n",
    "\n",
    "Sistemas fuzzy lógicos são projetados para reciocínio qualitativo e podem não ter um desempenho tão bom quando são necessárias previsões numéricas precisas. \n"
   ]
  },
  {
   "cell_type": "markdown",
   "id": "60974d68",
   "metadata": {},
   "source": [
    "<br><br>\n",
    "## 11. Future improvements [2,0 valor]"
   ]
  },
  {
   "cell_type": "markdown",
   "id": "35c05407",
   "metadata": {},
   "source": [
    "Para a aboradagem que usa o Algoritmo Genético (GA) como forma de otimização do conjunto de regras é possível fazer bastantes melhorias, nomeadamente dos parâmetros do próprio algoritmo(população, mutações, nº genes, etc). Adicionalmente, seria boa ideia tornar o nº de regras e o seu formato um hiperparâmetro, ou seja, ao invés do nº de regras (100) e formato (IF a AND b THEN c) ter sido definido à priori, seria também otimizado pelo GA.\n",
    "\n",
    "A utilização de mais classes para o output (quality) e a forma do fuzzy set pode ser uma melhoria futura. Isto iria complicar bastante a obtenção do conjunto de regras otimizado, dado que seriam necessárias mais regras para que pelo menos uma fosse ativada para cada conjunto de variáveis de entrada, mas por outro lado o modelo, provavelmente, seria menos biased e não tenderia a prever tanto a classe quality=6.\n",
    "\n",
    "A utilização de outras métricas de avaliação da adequação do conjunto de regras ao modelo é também um importante fator a ter ewm conta. Durante a exploração de várias hipóteses testou-se o uso do MAE como métrica e apesar de ter melhor accuracy, isso acontecia devido a prever praticamente para todos os cojuntos de entrada a classe quality=6; como esta é predominante no dataset obviamente que a accuracy é afetada por isso.\n",
    "\n",
    "Durante a otimização das regras pelo GA, penalizar o sistema quando este prevê quality=6 poderá ser uma forma de melhorar as previsões.\n",
    "\n",
    "\n",
    "\n"
   ]
  },
  {
   "cell_type": "markdown",
   "id": "04b1eb04",
   "metadata": {},
   "source": [
    "<br>\n",
    "<div style=\"text-align: center;\">\n",
    "    <br><br>\n",
    "    <p style=\"font-size: 40px;\">References [1,0 valor]</p>\n",
    "</div>\n",
    "<br>\n"
   ]
  },
  {
   "cell_type": "markdown",
   "id": "ce604c42",
   "metadata": {},
   "source": [
    "Cortez, P., Cerdeira, A., Almeida, F., Matos, T., Reis, J.,\n",
    "2009. Modeling wine preferences by data mining from\n",
    "physicochemical properties. In Decision Support\n",
    "Systems, Elsevier, 47(4), 547-553."
   ]
  },
  {
   "cell_type": "markdown",
   "id": "f45205f0",
   "metadata": {},
   "source": [
    "Nebot, Â., Mugica, F., Escobet, A., 2015. Modeling Wine Preferences from Physicochemical Properties using Fuzzy Techniques. In Proceedings of the 5th International Conference on Simulation and Modeling Methogologies, Technologies and Applications, 501-507 "
   ]
  }
 ],
 "metadata": {
  "kernelspec": {
   "display_name": "base",
   "language": "python",
   "name": "python3"
  },
  "language_info": {
   "codemirror_mode": {
    "name": "ipython",
    "version": 3
   },
   "file_extension": ".py",
   "mimetype": "text/x-python",
   "name": "python",
   "nbconvert_exporter": "python",
   "pygments_lexer": "ipython3",
   "version": "3.9.7"
  }
 },
 "nbformat": 4,
 "nbformat_minor": 5
}
